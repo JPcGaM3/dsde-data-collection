{
 "cells": [
  {
   "cell_type": "code",
   "execution_count": 1,
   "metadata": {},
   "outputs": [
    {
     "name": "stderr",
     "output_type": "stream",
     "text": [
      "24/12/07 01:22:52 WARN Utils: Your hostname, Nunnapats-MacBook-Air.local resolves to a loopback address: 127.0.0.1; using 192.168.100.8 instead (on interface en0)\n",
      "24/12/07 01:22:52 WARN Utils: Set SPARK_LOCAL_IP if you need to bind to another address\n",
      "Ivy Default Cache set to: /Users/punchpnp/.ivy2/cache\n",
      "The jars for the packages stored in: /Users/punchpnp/.ivy2/jars\n",
      "com.datastax.spark#spark-cassandra-connector_2.12 added as a dependency\n",
      ":: resolving dependencies :: org.apache.spark#spark-submit-parent-8f2b78e2-6ea1-42a1-ab28-09e06443af59;1.0\n",
      "\tconfs: [default]\n"
     ]
    },
    {
     "name": "stdout",
     "output_type": "stream",
     "text": [
      ":: loading settings :: url = jar:file:/opt/anaconda3/lib/python3.12/site-packages/pyspark/jars/ivy-2.5.1.jar!/org/apache/ivy/core/settings/ivysettings.xml\n"
     ]
    },
    {
     "name": "stderr",
     "output_type": "stream",
     "text": [
      "\tfound com.datastax.spark#spark-cassandra-connector_2.12;3.4.0 in central\n",
      "\tfound com.datastax.spark#spark-cassandra-connector-driver_2.12;3.4.0 in central\n",
      "\tfound com.datastax.oss#java-driver-core-shaded;4.13.0 in central\n",
      "\tfound com.datastax.oss#native-protocol;1.5.0 in central\n",
      "\tfound com.datastax.oss#java-driver-shaded-guava;25.1-jre-graal-sub-1 in central\n",
      "\tfound com.typesafe#config;1.4.1 in central\n",
      "\tfound org.slf4j#slf4j-api;1.7.26 in central\n",
      "\tfound io.dropwizard.metrics#metrics-core;4.1.18 in central\n",
      "\tfound org.hdrhistogram#HdrHistogram;2.1.12 in central\n",
      "\tfound org.reactivestreams#reactive-streams;1.0.3 in central\n",
      "\tfound com.github.stephenc.jcip#jcip-annotations;1.0-1 in central\n",
      "\tfound com.github.spotbugs#spotbugs-annotations;3.1.12 in central\n",
      "\tfound com.google.code.findbugs#jsr305;3.0.2 in local-m2-cache\n",
      "\tfound com.datastax.oss#java-driver-mapper-runtime;4.13.0 in central\n",
      "\tfound com.datastax.oss#java-driver-query-builder;4.13.0 in central\n",
      "\tfound org.apache.commons#commons-lang3;3.10 in central\n",
      "\tfound com.thoughtworks.paranamer#paranamer;2.8 in central\n",
      "\tfound org.scala-lang#scala-reflect;2.12.11 in central\n",
      ":: resolution report :: resolve 1984ms :: artifacts dl 12ms\n",
      "\t:: modules in use:\n",
      "\tcom.datastax.oss#java-driver-core-shaded;4.13.0 from central in [default]\n",
      "\tcom.datastax.oss#java-driver-mapper-runtime;4.13.0 from central in [default]\n",
      "\tcom.datastax.oss#java-driver-query-builder;4.13.0 from central in [default]\n",
      "\tcom.datastax.oss#java-driver-shaded-guava;25.1-jre-graal-sub-1 from central in [default]\n",
      "\tcom.datastax.oss#native-protocol;1.5.0 from central in [default]\n",
      "\tcom.datastax.spark#spark-cassandra-connector-driver_2.12;3.4.0 from central in [default]\n",
      "\tcom.datastax.spark#spark-cassandra-connector_2.12;3.4.0 from central in [default]\n",
      "\tcom.github.spotbugs#spotbugs-annotations;3.1.12 from central in [default]\n",
      "\tcom.github.stephenc.jcip#jcip-annotations;1.0-1 from central in [default]\n",
      "\tcom.google.code.findbugs#jsr305;3.0.2 from local-m2-cache in [default]\n",
      "\tcom.thoughtworks.paranamer#paranamer;2.8 from central in [default]\n",
      "\tcom.typesafe#config;1.4.1 from central in [default]\n",
      "\tio.dropwizard.metrics#metrics-core;4.1.18 from central in [default]\n",
      "\torg.apache.commons#commons-lang3;3.10 from central in [default]\n",
      "\torg.hdrhistogram#HdrHistogram;2.1.12 from central in [default]\n",
      "\torg.reactivestreams#reactive-streams;1.0.3 from central in [default]\n",
      "\torg.scala-lang#scala-reflect;2.12.11 from central in [default]\n",
      "\torg.slf4j#slf4j-api;1.7.26 from central in [default]\n",
      "\t---------------------------------------------------------------------\n",
      "\t|                  |            modules            ||   artifacts   |\n",
      "\t|       conf       | number| search|dwnlded|evicted|| number|dwnlded|\n",
      "\t---------------------------------------------------------------------\n",
      "\t|      default     |   18  |   0   |   0   |   0   ||   18  |   0   |\n",
      "\t---------------------------------------------------------------------\n",
      ":: retrieving :: org.apache.spark#spark-submit-parent-8f2b78e2-6ea1-42a1-ab28-09e06443af59\n",
      "\tconfs: [default]\n",
      "\t0 artifacts copied, 18 already retrieved (0kB/6ms)\n",
      "24/12/07 01:22:55 WARN NativeCodeLoader: Unable to load native-hadoop library for your platform... using builtin-java classes where applicable\n",
      "Setting default log level to \"WARN\".\n",
      "To adjust logging level use sc.setLogLevel(newLevel). For SparkR, use setLogLevel(newLevel).\n"
     ]
    }
   ],
   "source": [
    "from pyspark.sql import SparkSession\n",
    "\n",
    "spark = SparkSession.builder \\\n",
    "    .appName(\"Cassandra Example\") \\\n",
    "    .config(\"spark.cassandra.connection.host\", \"127.0.0.1\") \\\n",
    "    .config(\"spark.cassandra.connection.port\", \"9042\") \\\n",
    "    .config(\"spark.jars.packages\", \"com.datastax.spark:spark-cassandra-connector_2.12:3.4.0\") \\\n",
    "    .getOrCreate()\n"
   ]
  },
  {
   "cell_type": "code",
   "execution_count": 4,
   "metadata": {},
   "outputs": [
    {
     "name": "stdout",
     "output_type": "stream",
     "text": [
      "+---+----+--------------------+------+----+------------+-------+------+--------------------+--------------------+-------------+-------+--------------------+-------------+\n",
      "| id|year|               title|africa|asia|citedbycount|cluster|europe|    keyword_category|       keywords_list|north_america|oceania|     publicationname|south_america|\n",
      "+---+----+--------------------+------+----+------------+-------+------+--------------------+--------------------+-------------+-------+--------------------+-------------+\n",
      "|  0|2021|Does proactive lo...|     0|   5|           0|      1|     0|Medical and Techn...|['Business manage...|            0|      0|Polish Journal of...|            0|\n",
      "|  1|2021|Will There Ever B...|     0|   8|           3|      1|     2|Medical and Techn...|['biofilm infecti...|            0|      1|Frontiers in Medi...|            0|\n",
      "|  2|2021|Bacterial diversi...|     0|   1|           6|      1|     0|Medical and Techn...|['Escherichia col...|            1|      0|               PeerJ|            0|\n",
      "|  3|2021|Global Perspectiv...|     2|   1|           9|      1|     8|Medical and Techn...|['COVID-19', 'mat...|            3|      6|Frontiers in Immu...|            2|\n",
      "|  4|2021|Deep Learning Ena...|     0|   2|           4|      1|     1|Medical and Techn...|['deep attentive ...|            4|      0|Frontiers in Onco...|            0|\n",
      "|  5|2021|The Expansion of ...|     0|   7|          10|      2|     0|Cell Biology and ...|['bioconversion',...|            0|      0|Frontiers in Nano...|            0|\n",
      "|  6|2021|Occupational expo...|     0|   5|           5|      1|     0|Medical and Techn...|['Health risk ass...|            0|      0|Journal of Cleane...|            0|\n",
      "|  7|2021|Organic carbon st...|     0|   6|           8|      1|     0|Medical and Techn...|['Blue carbon', '...|            0|      0|Science of the To...|            0|\n",
      "|  8|2021|Shared metabolic ...|     0|   1|          17|      1|     1|Medical and Techn...|['Major Depressiv...|            0|      1|Progress in Neuro...|            8|\n",
      "|  9|2021|Translational evi...|     0|   2|          19|      1|     1|Medical and Techn...|['Depression', 'I...|            0|      2|Progress in Neuro...|            0|\n",
      "| 10|2021|The Development o...|     0|   2|           0|      1|     0|Medical and Techn...|['Architectural e...|            0|      0|Journal of Mekong...|            0|\n",
      "| 11|2021|Liver- and Spleen...|     0|   8|           1|      1|     0|Medical and Techn...|['BALB/c mouse', ...|            0|      0|Frontiers in Vete...|            0|\n",
      "| 12|2021|Injectable eggshe...|     0|   4|          16|      1|     0|Medical and Techn...|['Bone tissue eng...|            0|      0|International Jou...|            0|\n",
      "| 13|2021|Enhancement of la...|     0|   4|           6|      1|     0|Medical and Techn...|['Amylomaltase', ...|            0|      0|International Jou...|            0|\n",
      "| 14|2021|Molecular insight...|     0|   5|           0|      1|     0|Medical and Techn...|['Cyclodextrin', ...|            0|      0|Journal of Molecu...|            0|\n",
      "| 15|2021|In-situ chemical ...|     0|   4|           2|      1|     0|Medical and Techn...|['Acid chloride r...|            0|      0|Sensors and Actua...|            0|\n",
      "| 16|2021|Fouling mitigatio...|     0|   4|          11|      1|     0|Medical and Techn...|['AnMBR', 'Hydrop...|            0|      0|Environmental Pol...|            0|\n",
      "| 17|2021|Sintering behavio...|     0|   9|           8|      1|     0|Medical and Techn...|['Biomaterial', '...|            0|      0|Ceramics Internat...|            0|\n",
      "| 18|2021|Toward sustainabl...|     0|   3|          26|      1|     0|Medical and Techn...|['Landscape appre...|            2|      0|Journal of Enviro...|            0|\n",
      "| 19|2021|Strongly coupled ...|     0|   6|          29|      1|     0|Medical and Techn...|['Aqueous zinc-io...|            0|      0|Chemical Engineer...|            0|\n",
      "+---+----+--------------------+------+----+------------+-------+------+--------------------+--------------------+-------------+-------+--------------------+-------------+\n",
      "only showing top 20 rows\n",
      "\n"
     ]
    }
   ],
   "source": [
    "# อ่านข้อมูลจาก Cassandra\n",
    "df = spark.read \\\n",
    "    .format(\"org.apache.spark.sql.cassandra\") \\\n",
    "    .options(table=\"result_table\", keyspace=\"space\") \\\n",
    "    .load()\n",
    "df_sorted = df.orderBy(\"id\")\n",
    "\n",
    "# แสดงข้อมูล\n",
    "df_sorted.show(n=df.count())\n"
   ]
  }
 ],
 "metadata": {
  "kernelspec": {
   "display_name": "dsde-cedt",
   "language": "python",
   "name": "python3"
  },
  "language_info": {
   "codemirror_mode": {
    "name": "ipython",
    "version": 3
   },
   "file_extension": ".py",
   "mimetype": "text/x-python",
   "name": "python",
   "nbconvert_exporter": "python",
   "pygments_lexer": "ipython3",
   "version": "3.12.2"
  }
 },
 "nbformat": 4,
 "nbformat_minor": 2
}
