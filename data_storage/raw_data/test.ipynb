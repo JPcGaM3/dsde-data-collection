{
 "cells": [
  {
   "cell_type": "code",
   "execution_count": 1,
   "metadata": {},
   "outputs": [
    {
     "data": {
      "text/plain": [
       "Year                0\n",
       "Title               0\n",
       "PublicationName     0\n",
       "CitedByCount        0\n",
       "Asia                0\n",
       "Oceania             0\n",
       "Europe              0\n",
       "North America       0\n",
       "South America       0\n",
       "Africa              0\n",
       "keywords_list       0\n",
       "cluster             0\n",
       "keyword_category    0\n",
       "dtype: int64"
      ]
     },
     "execution_count": 1,
     "metadata": {},
     "output_type": "execute_result"
    }
   ],
   "source": [
    "import pandas as pd\n",
    "df = pd.read_csv('real_data.csv')\n",
    "df.isna().sum()"
   ]
  },
  {
   "cell_type": "code",
   "execution_count": 2,
   "metadata": {},
   "outputs": [
    {
     "data": {
      "text/plain": [
       "(9545, 13)"
      ]
     },
     "execution_count": 2,
     "metadata": {},
     "output_type": "execute_result"
    }
   ],
   "source": [
    "df.shape"
   ]
  },
  {
   "cell_type": "code",
   "execution_count": 3,
   "metadata": {},
   "outputs": [
    {
     "name": "stdout",
     "output_type": "stream",
     "text": [
      "0       False\n",
      "1       False\n",
      "2       False\n",
      "3       False\n",
      "4       False\n",
      "        ...  \n",
      "9540    False\n",
      "9541    False\n",
      "9542    False\n",
      "9543    False\n",
      "9544    False\n",
      "Length: 9545, dtype: bool\n"
     ]
    },
    {
     "data": {
      "text/plain": [
       "np.int64(9545)"
      ]
     },
     "execution_count": 3,
     "metadata": {},
     "output_type": "execute_result"
    }
   ],
   "source": [
    "duplicate_rows = df.duplicated(subset=['Year', 'Title'])\n",
    "print(duplicate_rows)\n",
    "\n",
    "duplicate_rows.count()"
   ]
  },
  {
   "cell_type": "code",
   "execution_count": 4,
   "metadata": {},
   "outputs": [
    {
     "data": {
      "text/plain": [
       "(9544, 13)"
      ]
     },
     "execution_count": 4,
     "metadata": {},
     "output_type": "execute_result"
    }
   ],
   "source": [
    "df.drop_duplicates(subset=['Year', 'Title'], inplace=True)\n",
    "df.shape"
   ]
  },
  {
   "cell_type": "code",
   "execution_count": 10,
   "metadata": {},
   "outputs": [],
   "source": [
    "df.to_csv('real_data2.csv', index=True)"
   ]
  },
  {
   "cell_type": "code",
   "execution_count": 9,
   "metadata": {},
   "outputs": [],
   "source": [
    "df.to_json('real_data1.json', orient='records')"
   ]
  },
  {
   "cell_type": "code",
   "execution_count": 11,
   "metadata": {},
   "outputs": [],
   "source": [
    "df = pd.read_csv('real_data2.csv')\n",
    "df.drop(36, inplace=True)\n"
   ]
  },
  {
   "cell_type": "code",
   "execution_count": 12,
   "metadata": {},
   "outputs": [],
   "source": [
    "df.to_csv('real_data3.csv', index=True)"
   ]
  },
  {
   "cell_type": "code",
   "execution_count": 15,
   "metadata": {},
   "outputs": [],
   "source": [
    "df = pd.read_csv('real_data2.csv')\n",
    "df.drop(columns=\"id\", axis=1, inplace=True)"
   ]
  },
  {
   "cell_type": "code",
   "execution_count": 16,
   "metadata": {},
   "outputs": [
    {
     "data": {
      "text/html": [
       "<div>\n",
       "<style scoped>\n",
       "    .dataframe tbody tr th:only-of-type {\n",
       "        vertical-align: middle;\n",
       "    }\n",
       "\n",
       "    .dataframe tbody tr th {\n",
       "        vertical-align: top;\n",
       "    }\n",
       "\n",
       "    .dataframe thead th {\n",
       "        text-align: right;\n",
       "    }\n",
       "</style>\n",
       "<table border=\"1\" class=\"dataframe\">\n",
       "  <thead>\n",
       "    <tr style=\"text-align: right;\">\n",
       "      <th></th>\n",
       "      <th>year</th>\n",
       "      <th>title</th>\n",
       "      <th>publicationname</th>\n",
       "      <th>citedbycount</th>\n",
       "      <th>asia</th>\n",
       "      <th>oceania</th>\n",
       "      <th>europe</th>\n",
       "      <th>north_america</th>\n",
       "      <th>south_america</th>\n",
       "      <th>africa</th>\n",
       "      <th>keywords_list</th>\n",
       "      <th>cluster</th>\n",
       "      <th>keyword_category</th>\n",
       "    </tr>\n",
       "  </thead>\n",
       "  <tbody>\n",
       "    <tr>\n",
       "      <th>0</th>\n",
       "      <td>2021</td>\n",
       "      <td>Does proactive logistics management enhance bu...</td>\n",
       "      <td>Polish Journal of Management Studies</td>\n",
       "      <td>0</td>\n",
       "      <td>5</td>\n",
       "      <td>0</td>\n",
       "      <td>0</td>\n",
       "      <td>0</td>\n",
       "      <td>0</td>\n",
       "      <td>0</td>\n",
       "      <td>['Business management', 'Firm size', 'Logistic...</td>\n",
       "      <td>1</td>\n",
       "      <td>Medical and Technological Advances</td>\n",
       "    </tr>\n",
       "    <tr>\n",
       "      <th>1</th>\n",
       "      <td>2021</td>\n",
       "      <td>Will There Ever Be Cure for Chronic, Life-Chan...</td>\n",
       "      <td>Frontiers in Medicine</td>\n",
       "      <td>3</td>\n",
       "      <td>8</td>\n",
       "      <td>1</td>\n",
       "      <td>2</td>\n",
       "      <td>0</td>\n",
       "      <td>0</td>\n",
       "      <td>0</td>\n",
       "      <td>['biofilm infections', 'chronic infection', 'c...</td>\n",
       "      <td>1</td>\n",
       "      <td>Medical and Technological Advances</td>\n",
       "    </tr>\n",
       "    <tr>\n",
       "      <th>2</th>\n",
       "      <td>2021</td>\n",
       "      <td>Bacterial diversity and potential risk factors...</td>\n",
       "      <td>PeerJ</td>\n",
       "      <td>6</td>\n",
       "      <td>1</td>\n",
       "      <td>0</td>\n",
       "      <td>0</td>\n",
       "      <td>1</td>\n",
       "      <td>0</td>\n",
       "      <td>0</td>\n",
       "      <td>['Escherichia coli', 'Risk factors', 'Salmonel...</td>\n",
       "      <td>1</td>\n",
       "      <td>Medical and Technological Advances</td>\n",
       "    </tr>\n",
       "    <tr>\n",
       "      <th>3</th>\n",
       "      <td>2021</td>\n",
       "      <td>Global Perspectives on Immunization Against SA...</td>\n",
       "      <td>Frontiers in Immunology</td>\n",
       "      <td>9</td>\n",
       "      <td>1</td>\n",
       "      <td>6</td>\n",
       "      <td>8</td>\n",
       "      <td>3</td>\n",
       "      <td>2</td>\n",
       "      <td>2</td>\n",
       "      <td>['COVID-19', 'maternal immunization', 'materna...</td>\n",
       "      <td>1</td>\n",
       "      <td>Medical and Technological Advances</td>\n",
       "    </tr>\n",
       "    <tr>\n",
       "      <th>4</th>\n",
       "      <td>2021</td>\n",
       "      <td>Deep Learning Enables Prostate MRI Segmentatio...</td>\n",
       "      <td>Frontiers in Oncology</td>\n",
       "      <td>4</td>\n",
       "      <td>2</td>\n",
       "      <td>0</td>\n",
       "      <td>1</td>\n",
       "      <td>4</td>\n",
       "      <td>0</td>\n",
       "      <td>0</td>\n",
       "      <td>['deep attentive neural network', 'large cohor...</td>\n",
       "      <td>1</td>\n",
       "      <td>Medical and Technological Advances</td>\n",
       "    </tr>\n",
       "    <tr>\n",
       "      <th>...</th>\n",
       "      <td>...</td>\n",
       "      <td>...</td>\n",
       "      <td>...</td>\n",
       "      <td>...</td>\n",
       "      <td>...</td>\n",
       "      <td>...</td>\n",
       "      <td>...</td>\n",
       "      <td>...</td>\n",
       "      <td>...</td>\n",
       "      <td>...</td>\n",
       "      <td>...</td>\n",
       "      <td>...</td>\n",
       "      <td>...</td>\n",
       "    </tr>\n",
       "    <tr>\n",
       "      <th>539</th>\n",
       "      <td>2021</td>\n",
       "      <td>Survival in advanced-stage epithelial ovarian ...</td>\n",
       "      <td>Cancers</td>\n",
       "      <td>2</td>\n",
       "      <td>3</td>\n",
       "      <td>0</td>\n",
       "      <td>3</td>\n",
       "      <td>0</td>\n",
       "      <td>0</td>\n",
       "      <td>0</td>\n",
       "      <td>['Cardiophrenic lymph node', 'Ovarian cancer',...</td>\n",
       "      <td>1</td>\n",
       "      <td>Medical and Technological Advances</td>\n",
       "    </tr>\n",
       "    <tr>\n",
       "      <th>540</th>\n",
       "      <td>2021</td>\n",
       "      <td>Protein-bound uremic toxins lowering effect of...</td>\n",
       "      <td>Toxins</td>\n",
       "      <td>3</td>\n",
       "      <td>7</td>\n",
       "      <td>0</td>\n",
       "      <td>0</td>\n",
       "      <td>0</td>\n",
       "      <td>0</td>\n",
       "      <td>0</td>\n",
       "      <td>['Chronic kidney disease', 'Indoxyl sulfate', ...</td>\n",
       "      <td>1</td>\n",
       "      <td>Medical and Technological Advances</td>\n",
       "    </tr>\n",
       "    <tr>\n",
       "      <th>541</th>\n",
       "      <td>2021</td>\n",
       "      <td>Evaluation of the use of platelet-rich fibrin ...</td>\n",
       "      <td>Veterinary Sciences</td>\n",
       "      <td>0</td>\n",
       "      <td>5</td>\n",
       "      <td>0</td>\n",
       "      <td>0</td>\n",
       "      <td>0</td>\n",
       "      <td>0</td>\n",
       "      <td>0</td>\n",
       "      <td>['Bubaline', 'Canine', 'Healing', 'Periodontal...</td>\n",
       "      <td>1</td>\n",
       "      <td>Medical and Technological Advances</td>\n",
       "    </tr>\n",
       "    <tr>\n",
       "      <th>542</th>\n",
       "      <td>2021</td>\n",
       "      <td>A normalized HLD (HLDN) tool for optimal salt-...</td>\n",
       "      <td>Applied Sciences (Switzerland)</td>\n",
       "      <td>2</td>\n",
       "      <td>3</td>\n",
       "      <td>0</td>\n",
       "      <td>0</td>\n",
       "      <td>0</td>\n",
       "      <td>0</td>\n",
       "      <td>0</td>\n",
       "      <td>['Anionic–nonionic mixed surfactant', 'Extende...</td>\n",
       "      <td>1</td>\n",
       "      <td>Medical and Technological Advances</td>\n",
       "    </tr>\n",
       "    <tr>\n",
       "      <th>543</th>\n",
       "      <td>2021</td>\n",
       "      <td>Wnt/β-catenin pathway proteins in end-stage re...</td>\n",
       "      <td>Biomarkers in Medicine</td>\n",
       "      <td>2</td>\n",
       "      <td>3</td>\n",
       "      <td>1</td>\n",
       "      <td>1</td>\n",
       "      <td>0</td>\n",
       "      <td>0</td>\n",
       "      <td>0</td>\n",
       "      <td>['chronic kidney disease', 'DKK1', 'end-stage ...</td>\n",
       "      <td>2</td>\n",
       "      <td>Cell Biology and Biochemistry</td>\n",
       "    </tr>\n",
       "  </tbody>\n",
       "</table>\n",
       "<p>544 rows × 13 columns</p>\n",
       "</div>"
      ],
      "text/plain": [
       "     year                                              title  \\\n",
       "0    2021  Does proactive logistics management enhance bu...   \n",
       "1    2021  Will There Ever Be Cure for Chronic, Life-Chan...   \n",
       "2    2021  Bacterial diversity and potential risk factors...   \n",
       "3    2021  Global Perspectives on Immunization Against SA...   \n",
       "4    2021  Deep Learning Enables Prostate MRI Segmentatio...   \n",
       "..    ...                                                ...   \n",
       "539  2021  Survival in advanced-stage epithelial ovarian ...   \n",
       "540  2021  Protein-bound uremic toxins lowering effect of...   \n",
       "541  2021  Evaluation of the use of platelet-rich fibrin ...   \n",
       "542  2021  A normalized HLD (HLDN) tool for optimal salt-...   \n",
       "543  2021  Wnt/β-catenin pathway proteins in end-stage re...   \n",
       "\n",
       "                          publicationname  citedbycount  asia  oceania  \\\n",
       "0    Polish Journal of Management Studies             0     5        0   \n",
       "1                   Frontiers in Medicine             3     8        1   \n",
       "2                                   PeerJ             6     1        0   \n",
       "3                 Frontiers in Immunology             9     1        6   \n",
       "4                   Frontiers in Oncology             4     2        0   \n",
       "..                                    ...           ...   ...      ...   \n",
       "539                               Cancers             2     3        0   \n",
       "540                                Toxins             3     7        0   \n",
       "541                   Veterinary Sciences             0     5        0   \n",
       "542        Applied Sciences (Switzerland)             2     3        0   \n",
       "543                Biomarkers in Medicine             2     3        1   \n",
       "\n",
       "     europe  north_america  south_america  africa  \\\n",
       "0         0              0              0       0   \n",
       "1         2              0              0       0   \n",
       "2         0              1              0       0   \n",
       "3         8              3              2       2   \n",
       "4         1              4              0       0   \n",
       "..      ...            ...            ...     ...   \n",
       "539       3              0              0       0   \n",
       "540       0              0              0       0   \n",
       "541       0              0              0       0   \n",
       "542       0              0              0       0   \n",
       "543       1              0              0       0   \n",
       "\n",
       "                                         keywords_list  cluster  \\\n",
       "0    ['Business management', 'Firm size', 'Logistic...        1   \n",
       "1    ['biofilm infections', 'chronic infection', 'c...        1   \n",
       "2    ['Escherichia coli', 'Risk factors', 'Salmonel...        1   \n",
       "3    ['COVID-19', 'maternal immunization', 'materna...        1   \n",
       "4    ['deep attentive neural network', 'large cohor...        1   \n",
       "..                                                 ...      ...   \n",
       "539  ['Cardiophrenic lymph node', 'Ovarian cancer',...        1   \n",
       "540  ['Chronic kidney disease', 'Indoxyl sulfate', ...        1   \n",
       "541  ['Bubaline', 'Canine', 'Healing', 'Periodontal...        1   \n",
       "542  ['Anionic–nonionic mixed surfactant', 'Extende...        1   \n",
       "543  ['chronic kidney disease', 'DKK1', 'end-stage ...        2   \n",
       "\n",
       "                       keyword_category  \n",
       "0    Medical and Technological Advances  \n",
       "1    Medical and Technological Advances  \n",
       "2    Medical and Technological Advances  \n",
       "3    Medical and Technological Advances  \n",
       "4    Medical and Technological Advances  \n",
       "..                                  ...  \n",
       "539  Medical and Technological Advances  \n",
       "540  Medical and Technological Advances  \n",
       "541  Medical and Technological Advances  \n",
       "542  Medical and Technological Advances  \n",
       "543       Cell Biology and Biochemistry  \n",
       "\n",
       "[544 rows x 13 columns]"
      ]
     },
     "execution_count": 16,
     "metadata": {},
     "output_type": "execute_result"
    }
   ],
   "source": [
    "df.to_csv('real_data4.csv', index=True)"
   ]
  }
 ],
 "metadata": {
  "kernelspec": {
   "display_name": "dsde-cedt",
   "language": "python",
   "name": "python3"
  },
  "language_info": {
   "codemirror_mode": {
    "name": "ipython",
    "version": 3
   },
   "file_extension": ".py",
   "mimetype": "text/x-python",
   "name": "python",
   "nbconvert_exporter": "python",
   "pygments_lexer": "ipython3",
   "version": "3.11.8"
  }
 },
 "nbformat": 4,
 "nbformat_minor": 2
}
