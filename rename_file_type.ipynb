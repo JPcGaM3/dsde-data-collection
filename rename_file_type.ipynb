{
 "cells": [
  {
   "cell_type": "code",
   "execution_count": 1,
   "metadata": {},
   "outputs": [],
   "source": [
    "import os\n",
    "\n",
    "def rename_files_to_json(folder_path):\n",
    "    for filename in os.listdir(folder_path):\n",
    "        base_file, ext = os.path.splitext(filename)\n",
    "        new_filename = base_file + '.json'\n",
    "        os.rename(os.path.join(folder_path, filename), os.path.join(folder_path, new_filename))\n",
    "\n",
    "# Example usage:\n",
    "parent_folder_path = './data'\n",
    "for folder_name in os.listdir(parent_folder_path):\n",
    "    folder_path = os.path.join(parent_folder_path, folder_name)\n",
    "    if os.path.isdir(folder_path):\n",
    "        rename_files_to_json(folder_path)"
   ]
  }
 ],
 "metadata": {
  "kernelspec": {
   "display_name": "Python 3",
   "language": "python",
   "name": "python3"
  },
  "language_info": {
   "codemirror_mode": {
    "name": "ipython",
    "version": 3
   },
   "file_extension": ".py",
   "mimetype": "text/x-python",
   "name": "python",
   "nbconvert_exporter": "python",
   "pygments_lexer": "ipython3",
   "version": "3.11.10"
  }
 },
 "nbformat": 4,
 "nbformat_minor": 2
}
